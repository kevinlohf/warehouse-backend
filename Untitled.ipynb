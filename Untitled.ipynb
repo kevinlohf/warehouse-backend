{
 "cells": [
  {
   "cell_type": "code",
   "execution_count": 1,
   "metadata": {},
   "outputs": [
    {
     "name": "stdout",
     "output_type": "stream",
     "text": [
      "\n",
      "WARNING: The TensorFlow contrib module will not be included in TensorFlow 2.0.\n",
      "For more information, please see:\n",
      "  * https://github.com/tensorflow/community/blob/master/rfcs/20180907-contrib-sunset.md\n",
      "  * https://github.com/tensorflow/addons\n",
      "If you depend on functionality not listed there, please file an issue.\n",
      "\n"
     ]
    },
    {
     "name": "stderr",
     "output_type": "stream",
     "text": [
      "/home/dom/anaconda3/lib/python3.7/site-packages/onnx_tf/common/__init__.py:87: UserWarning: FrontendHandler.get_outputs_names is deprecated. It will be removed in future release.. Use node.outputs instead.\n",
      "  warnings.warn(message)\n"
     ]
    }
   ],
   "source": [
    "\n",
    "from PIL import Image\n",
    "from object_detector.qr_detector import QRModel\n",
    "from pathlib import Path"
   ]
  },
  {
   "cell_type": "code",
   "execution_count": 2,
   "metadata": {},
   "outputs": [
    {
     "name": "stderr",
     "output_type": "stream",
     "text": [
      "/home/dom/anaconda3/lib/python3.7/site-packages/onnx_tf/common/handler_helper.py:70: UserWarning: Fail to get since_version of Acos in domain `` with max_inclusive_version=6. Set to 1.\n",
      "  handler.ONNX_OP, handler.DOMAIN, version))\n",
      "/home/dom/anaconda3/lib/python3.7/site-packages/onnx_tf/common/handler_helper.py:70: UserWarning: Fail to get since_version of Acosh in domain `` with max_inclusive_version=6. Set to 1.\n",
      "  handler.ONNX_OP, handler.DOMAIN, version))\n",
      "/home/dom/anaconda3/lib/python3.7/site-packages/onnx_tf/common/handler_helper.py:70: UserWarning: Fail to get since_version of Asin in domain `` with max_inclusive_version=6. Set to 1.\n",
      "  handler.ONNX_OP, handler.DOMAIN, version))\n",
      "/home/dom/anaconda3/lib/python3.7/site-packages/onnx_tf/common/handler_helper.py:70: UserWarning: Fail to get since_version of Asinh in domain `` with max_inclusive_version=6. Set to 1.\n",
      "  handler.ONNX_OP, handler.DOMAIN, version))\n",
      "/home/dom/anaconda3/lib/python3.7/site-packages/onnx_tf/common/handler_helper.py:70: UserWarning: Fail to get since_version of Atan in domain `` with max_inclusive_version=6. Set to 1.\n",
      "  handler.ONNX_OP, handler.DOMAIN, version))\n",
      "/home/dom/anaconda3/lib/python3.7/site-packages/onnx_tf/common/handler_helper.py:70: UserWarning: Fail to get since_version of Atanh in domain `` with max_inclusive_version=6. Set to 1.\n",
      "  handler.ONNX_OP, handler.DOMAIN, version))\n",
      "/home/dom/anaconda3/lib/python3.7/site-packages/onnx_tf/common/handler_helper.py:70: UserWarning: Fail to get since_version of Compress in domain `` with max_inclusive_version=6. Set to 1.\n",
      "  handler.ONNX_OP, handler.DOMAIN, version))\n",
      "/home/dom/anaconda3/lib/python3.7/site-packages/onnx_tf/common/handler_helper.py:73: UserWarning: Unknown op ConstantFill in domain `ai.onnx`.\n",
      "  handler.ONNX_OP, handler.DOMAIN or \"ai.onnx\"))\n",
      "/home/dom/anaconda3/lib/python3.7/site-packages/onnx_tf/common/handler_helper.py:73: UserWarning: Unknown op ConstantLike in domain `ai.onnx`.\n",
      "  handler.ONNX_OP, handler.DOMAIN or \"ai.onnx\"))\n",
      "/home/dom/anaconda3/lib/python3.7/site-packages/onnx_tf/common/handler_helper.py:70: UserWarning: Fail to get since_version of Cos in domain `` with max_inclusive_version=6. Set to 1.\n",
      "  handler.ONNX_OP, handler.DOMAIN, version))\n",
      "/home/dom/anaconda3/lib/python3.7/site-packages/onnx_tf/common/handler_helper.py:70: UserWarning: Fail to get since_version of Cosh in domain `` with max_inclusive_version=6. Set to 1.\n",
      "  handler.ONNX_OP, handler.DOMAIN, version))\n",
      "/home/dom/anaconda3/lib/python3.7/site-packages/onnx_tf/common/handler_helper.py:70: UserWarning: Fail to get since_version of Expand in domain `` with max_inclusive_version=6. Set to 1.\n",
      "  handler.ONNX_OP, handler.DOMAIN, version))\n",
      "/home/dom/anaconda3/lib/python3.7/site-packages/onnx_tf/common/handler_helper.py:70: UserWarning: Fail to get since_version of EyeLike in domain `` with max_inclusive_version=6. Set to 1.\n",
      "  handler.ONNX_OP, handler.DOMAIN, version))\n",
      "/home/dom/anaconda3/lib/python3.7/site-packages/onnx_tf/common/handler_helper.py:73: UserWarning: Unknown op MeanVarianceNormalization in domain `ai.onnx`.\n",
      "  handler.ONNX_OP, handler.DOMAIN or \"ai.onnx\"))\n",
      "/home/dom/anaconda3/lib/python3.7/site-packages/onnx_tf/common/handler_helper.py:70: UserWarning: Fail to get since_version of Sin in domain `` with max_inclusive_version=6. Set to 1.\n",
      "  handler.ONNX_OP, handler.DOMAIN, version))\n",
      "/home/dom/anaconda3/lib/python3.7/site-packages/onnx_tf/common/handler_helper.py:70: UserWarning: Fail to get since_version of Sinh in domain `` with max_inclusive_version=6. Set to 1.\n",
      "  handler.ONNX_OP, handler.DOMAIN, version))\n",
      "/home/dom/anaconda3/lib/python3.7/site-packages/onnx_tf/common/handler_helper.py:70: UserWarning: Fail to get since_version of Tan in domain `` with max_inclusive_version=6. Set to 1.\n",
      "  handler.ONNX_OP, handler.DOMAIN, version))\n"
     ]
    }
   ],
   "source": [
    "\n",
    "qr_model = QRModel(\"object_detector/model.onnx\")"
   ]
  },
  {
   "cell_type": "code",
   "execution_count": 3,
   "metadata": {},
   "outputs": [],
   "source": [
    "\n",
    "UPLOAD_FOLDER = 'upload/warehouse/'"
   ]
  },
  {
   "cell_type": "code",
   "execution_count": 4,
   "metadata": {},
   "outputs": [],
   "source": [
    "image_paths = Path(UPLOAD_FOLDER).glob(\"*.jpeg\")\n",
    "predictions = []\n",
    "images = [Image.open(path) for path in image_paths]"
   ]
  },
  {
   "cell_type": "code",
   "execution_count": 5,
   "metadata": {},
   "outputs": [],
   "source": [
    "out = qr_model.predict_batch(images)"
   ]
  },
  {
   "cell_type": "code",
   "execution_count": 6,
   "metadata": {},
   "outputs": [
    {
     "name": "stdout",
     "output_type": "stream",
     "text": [
      "Automatic pdb calling has been turned ON\n"
     ]
    }
   ],
   "source": [
    "%pdb"
   ]
  }
 ],
 "metadata": {
  "kernelspec": {
   "display_name": "Python 3",
   "language": "python",
   "name": "python3"
  },
  "language_info": {
   "codemirror_mode": {
    "name": "ipython",
    "version": 3
   },
   "file_extension": ".py",
   "mimetype": "text/x-python",
   "name": "python",
   "nbconvert_exporter": "python",
   "pygments_lexer": "ipython3",
   "version": "3.7.1"
  }
 },
 "nbformat": 4,
 "nbformat_minor": 2
}
